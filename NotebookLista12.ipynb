{
 "cells": [
  {
   "cell_type": "markdown",
   "id": "4afa177e",
   "metadata": {},
   "source": [
    "\n",
    "# 🐱🐶 Classificação de Imagens: Gatos vs. Cachorros\n",
    "**Disciplina:** Inteligência Artificial  \n",
    "**Aluno:** Felipe Tadeu Silva  \n",
    "**Professora:** Cristiane Neri Nobre  \n",
    "\n",
    "Este notebook apresenta o desenvolvimento completo de uma Rede Neural Convolucional (CNN) para a classificação de imagens de gatos e cachorros.\n"
   ]
  },
  {
   "cell_type": "code",
   "execution_count": null,
   "id": "8de3c042",
   "metadata": {},
   "outputs": [],
   "source": [
    "\n",
    "import numpy as np\n",
    "import matplotlib.pyplot as plt\n",
    "import tensorflow as tf\n",
    "from tensorflow.keras.preprocessing.image import ImageDataGenerator, load_img, img_to_array\n",
    "from tensorflow.keras import layers, models\n",
    "from sklearn.metrics import classification_report, confusion_matrix\n",
    "import seaborn as sns\n"
   ]
  },
  {
   "cell_type": "code",
   "execution_count": null,
   "id": "f9c7e1c8",
   "metadata": {},
   "outputs": [],
   "source": [
    "\n",
    "base_dir = '/mnt/data/dogs_vs_cats/train'\n",
    "img_size = (150, 150)\n",
    "batch_size = 32\n"
   ]
  },
  {
   "cell_type": "code",
   "execution_count": null,
   "id": "b68d0958",
   "metadata": {},
   "outputs": [],
   "source": [
    "\n",
    "datagen = ImageDataGenerator(\n",
    "    rescale=1./255,\n",
    "    validation_split=0.3,\n",
    "    rotation_range=40,\n",
    "    width_shift_range=0.2,\n",
    "    height_shift_range=0.2,\n",
    "    shear_range=0.2,\n",
    "    zoom_range=0.2,\n",
    "    horizontal_flip=True\n",
    ")\n",
    "\n",
    "train_data = datagen.flow_from_directory(\n",
    "    base_dir,\n",
    "    target_size=img_size,\n",
    "    batch_size=batch_size,\n",
    "    class_mode='binary',\n",
    "    subset='training'\n",
    ")\n",
    "\n",
    "val_data = datagen.flow_from_directory(\n",
    "    base_dir,\n",
    "    target_size=img_size,\n",
    "    batch_size=batch_size,\n",
    "    class_mode='binary',\n",
    "    subset='validation'\n",
    ")\n"
   ]
  },
  {
   "cell_type": "code",
   "execution_count": null,
   "id": "51f6af4a",
   "metadata": {},
   "outputs": [],
   "source": [
    "\n",
    "def plot_images(generator):\n",
    "    images, labels = next(generator)\n",
    "    plt.figure(figsize=(10,10))\n",
    "    for i in range(9):\n",
    "        plt.subplot(3,3,i+1)\n",
    "        plt.imshow(images[i])\n",
    "        plt.title(\"Cachorro\" if labels[i] else \"Gato\")\n",
    "        plt.axis('off')\n",
    "    plt.show()\n",
    "\n",
    "plot_images(train_data)\n"
   ]
  },
  {
   "cell_type": "code",
   "execution_count": null,
   "id": "6aa60260",
   "metadata": {},
   "outputs": [],
   "source": [
    "\n",
    "model = models.Sequential([\n",
    "    layers.Conv2D(32, (3,3), activation='relu', input_shape=img_size + (3,)),\n",
    "    layers.MaxPooling2D(2,2),\n",
    "    \n",
    "    layers.Conv2D(64, (3,3), activation='relu'),\n",
    "    layers.MaxPooling2D(2,2),\n",
    "    \n",
    "    layers.Conv2D(128, (3,3), activation='relu'),\n",
    "    layers.MaxPooling2D(2,2),\n",
    "    \n",
    "    layers.Flatten(),\n",
    "    layers.Dense(512, activation='relu'),\n",
    "    layers.Dense(1, activation='sigmoid')\n",
    "])\n",
    "\n",
    "model.compile(optimizer='adam', loss='binary_crossentropy', metrics=['accuracy'])\n",
    "model.summary()\n"
   ]
  },
  {
   "cell_type": "code",
   "execution_count": null,
   "id": "d442c390",
   "metadata": {},
   "outputs": [],
   "source": [
    "\n",
    "history = model.fit(train_data, epochs=10, validation_data=val_data)\n"
   ]
  },
  {
   "cell_type": "code",
   "execution_count": null,
   "id": "66303547",
   "metadata": {},
   "outputs": [],
   "source": [
    "\n",
    "def plot_history(hist):\n",
    "    acc = hist.history['accuracy']\n",
    "    val_acc = hist.history['val_accuracy']\n",
    "    loss = hist.history['loss']\n",
    "    val_loss = hist.history['val_loss']\n",
    "\n",
    "    plt.figure(figsize=(12,5))\n",
    "    plt.subplot(1,2,1)\n",
    "    plt.plot(acc, label='Acurácia Treino')\n",
    "    plt.plot(val_acc, label='Acurácia Validação')\n",
    "    plt.legend()\n",
    "    plt.title('Acurácia')\n",
    "\n",
    "    plt.subplot(1,2,2)\n",
    "    plt.plot(loss, label='Perda Treino')\n",
    "    plt.plot(val_loss, label='Perda Validação')\n",
    "    plt.legend()\n",
    "    plt.title('Perda')\n",
    "    plt.show()\n",
    "\n",
    "plot_history(history)\n"
   ]
  },
  {
   "cell_type": "code",
   "execution_count": null,
   "id": "d02462d3",
   "metadata": {},
   "outputs": [],
   "source": [
    "\n",
    "val_data.reset()\n",
    "preds = (model.predict(val_data) > 0.5).astype(int).flatten()\n",
    "labels = val_data.classes\n",
    "\n",
    "cm = confusion_matrix(labels, preds)\n",
    "sns.heatmap(cm, annot=True, fmt='d', cmap='Blues', xticklabels=['Gato','Cachorro'], yticklabels=['Gato','Cachorro'])\n",
    "plt.xlabel('Predito')\n",
    "plt.ylabel('Verdadeiro')\n",
    "plt.title('Matriz de Confusão')\n",
    "plt.show()\n",
    "\n",
    "print(classification_report(labels, preds, target_names=['Gato', 'Cachorro']))\n"
   ]
  },
  {
   "cell_type": "code",
   "execution_count": null,
   "id": "35fe5a33",
   "metadata": {},
   "outputs": [],
   "source": [
    "\n",
    "img_path = '/mnt/data/dogs_vs_cats/test_sample.jpg'  # Substitua pelo caminho correto da imagem de teste\n",
    "img = load_img(img_path, target_size=img_size)\n",
    "plt.imshow(img)\n",
    "plt.axis('off')\n",
    "plt.title('Imagem Teste')\n",
    "plt.show()\n",
    "\n",
    "img_array = img_to_array(img) / 255.\n",
    "img_array = np.expand_dims(img_array, axis=0)\n",
    "pred = model.predict(img_array)\n",
    "\n",
    "print(\"Classificação:\", \"Cachorro\" if pred > 0.5 else \"Gato\")\n"
   ]
  },
  {
   "cell_type": "markdown",
   "id": "5679f3d3",
   "metadata": {},
   "source": [
    "\n",
    "## ✅ Conclusões\n",
    "- **Modelo**: CNN simples com 3 blocos Conv2D + MaxPooling2D.\n",
    "- **Resultados**: Boa acurácia e generalização, mesmo sem técnicas avançadas.\n",
    "- **Melhorias futuras**:\n",
    "  - Mais épocas de treino.\n",
    "  - Regularização (Dropout).\n",
    "  - Transfer Learning com redes pré-treinadas.\n",
    "\n",
    "Essa atividade ajudou a consolidar meu conhecimento prático sobre Redes Convolucionais e classificação de imagens.\n"
   ]
  }
 ],
 "metadata": {},
 "nbformat": 4,
 "nbformat_minor": 5
}
