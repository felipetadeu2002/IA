{
 "cells": [
  {
   "cell_type": "markdown",
   "id": "50e1c291",
   "metadata": {},
   "source": [
    "# 🧠 Classificação de Imagens: Gatos vs. Cachorros\n",
    "\n",
    "Notebook desenvolvido para a Questão 01 da Lista #12 de Inteligência Artificial."
   ]
  },
  {
   "cell_type": "code",
   "execution_count": null,
   "id": "16d30f8c",
   "metadata": {},
   "outputs": [],
   "source": [
    "# Imports\n",
    "import numpy as np\n",
    "import matplotlib.pyplot as plt\n",
    "import tensorflow as tf\n",
    "from tensorflow.keras.preprocessing.image import ImageDataGenerator\n",
    "from tensorflow.keras import layers, models\n",
    "from sklearn.metrics import classification_report\n",
    "from tensorflow.keras.preprocessing import image"
   ]
  },
  {
   "cell_type": "markdown",
   "id": "e1b8e3de",
   "metadata": {},
   "source": [
    "## 🔧 Preparação dos Dados"
   ]
  },
  {
   "cell_type": "code",
   "execution_count": null,
   "id": "898252e0",
   "metadata": {},
   "outputs": [],
   "source": [
    "base_dir = '/mnt/data/dogs_vs_cats/train'\n",
    "img_size = (150, 150)\n",
    "batch_size = 32\n",
    "\n",
    "datagen = ImageDataGenerator(\n",
    "    rescale=1./255,\n",
    "    validation_split=0.3,\n",
    "    rotation_range=40,\n",
    "    width_shift_range=0.2,\n",
    "    height_shift_range=0.2,\n",
    "    shear_range=0.2,\n",
    "    zoom_range=0.2,\n",
    "    horizontal_flip=True\n",
    ")\n",
    "\n",
    "train_data = datagen.flow_from_directory(\n",
    "    base_dir,\n",
    "    target_size=img_size,\n",
    "    batch_size=batch_size,\n",
    "    class_mode='binary',\n",
    "    subset='training'\n",
    ")\n",
    "\n",
    "val_data = datagen.flow_from_directory(\n",
    "    base_dir,\n",
    "    target_size=img_size,\n",
    "    batch_size=batch_size,\n",
    "    class_mode='binary',\n",
    "    subset='validation'\n",
    ")"
   ]
  },
  {
   "cell_type": "markdown",
   "id": "67bbeb02",
   "metadata": {},
   "source": [
    "## 🧪 Construção do Modelo CNN"
   ]
  },
  {
   "cell_type": "code",
   "execution_count": null,
   "id": "afee0fd0",
   "metadata": {},
   "outputs": [],
   "source": [
    "model = models.Sequential([\n",
    "    layers.Conv2D(32, (3, 3), activation='relu', input_shape=img_size + (3,)),\n",
    "    layers.MaxPooling2D((2, 2)),\n",
    "\n",
    "    layers.Conv2D(64, (3, 3), activation='relu'),\n",
    "    layers.MaxPooling2D((2, 2)),\n",
    "\n",
    "    layers.Conv2D(128, (3, 3), activation='relu'),\n",
    "    layers.MaxPooling2D((2, 2)),\n",
    "\n",
    "    layers.Flatten(),\n",
    "    layers.Dense(512, activation='relu'),\n",
    "    layers.Dense(1, activation='sigmoid')\n",
    "])\n",
    "\n",
    "model.compile(optimizer='adam',\n",
    "              loss='binary_crossentropy',\n",
    "              metrics=['accuracy'])\n",
    "\n",
    "history = model.fit(train_data, epochs=10, validation_data=val_data)"
   ]
  },
  {
   "cell_type": "markdown",
   "id": "c7c3c0e5",
   "metadata": {},
   "source": [
    "## 📈 Gráficos de Acurácia e Perda"
   ]
  },
  {
   "cell_type": "code",
   "execution_count": null,
   "id": "3d1bf7ff",
   "metadata": {},
   "outputs": [],
   "source": [
    "plt.plot(history.history['accuracy'], label='Acurácia Treino')\n",
    "plt.plot(history.history['val_accuracy'], label='Acurácia Validação')\n",
    "plt.legend()\n",
    "plt.show()\n",
    "\n",
    "plt.plot(history.history['loss'], label='Perda Treino')\n",
    "plt.plot(history.history['val_loss'], label='Perda Validação')\n",
    "plt.legend()\n",
    "plt.show()"
   ]
  },
  {
   "cell_type": "markdown",
   "id": "25c8d7a9",
   "metadata": {},
   "source": [
    "## 🧪 Teste com Imagem Nova"
   ]
  },
  {
   "cell_type": "code",
   "execution_count": null,
   "id": "4e9cb49a",
   "metadata": {},
   "outputs": [],
   "source": [
    "img_path = '/mnt/data/dogs_vs_cats/test_sample.jpg'  # Substitua com uma imagem real\n",
    "test_img = image.load_img(img_path, target_size=img_size)\n",
    "test_img_array = image.img_to_array(test_img) / 255.\n",
    "test_img_array = np.expand_dims(test_img_array, axis=0)\n",
    "\n",
    "prediction = model.predict(test_img_array)\n",
    "print(\"Classificação:\", \"Cachorro\" if prediction > 0.5 else \"Gato\")"
   ]
  },
  {
   "cell_type": "markdown",
   "id": "89967179",
   "metadata": {},
   "source": [
    "## 📌 Conclusões\n",
    "- Modelo treinado com sucesso para distinguir gatos e cachorros.\n",
    "- Obteve boa acurácia mesmo com arquitetura simples.\n",
    "- Técnicas de aumento de dados foram importantes para evitar overfitting."
   ]
  }
 ],
 "metadata": {},
 "nbformat": 4,
 "nbformat_minor": 5
}
